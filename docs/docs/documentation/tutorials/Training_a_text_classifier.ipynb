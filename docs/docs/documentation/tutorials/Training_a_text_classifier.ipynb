{
 "cells": [
  {
   "cell_type": "markdown",
   "metadata": {},
   "source": [
    "# Training a short text classifier of German business names\n",
    "\n",
    "In this tutorial we will train a basic short-text classifier for predicting the sector of a business based only on its business name. For this we will use a training dataset with business names and business categories in German.\n",
    "\n",
    "The tutorial will guide you through the following steps:\n",
    "\n",
    "\n",
    "[[toc]]\n",
    "\n"
   ]
  },
  {
   "cell_type": "markdown",
   "metadata": {},
   "source": [
    "## Explore and prepare training and evaluation data\n",
    "\n",
    "Let's take a look at the data we will use for training."
   ]
  },
  {
   "cell_type": "code",
   "execution_count": 29,
   "metadata": {},
   "outputs": [],
   "source": [
    "import pandas as pd"
   ]
  },
  {
   "cell_type": "code",
   "execution_count": 30,
   "metadata": {},
   "outputs": [],
   "source": [
    "df = pd.read_csv(\"s3://biome-tutorials-data/text_classifier/business.cat.10k.csv\")"
   ]
  },
  {
   "cell_type": "code",
   "execution_count": 31,
   "metadata": {},
   "outputs": [
    {
     "data": {
      "text/html": [
       "<div>\n",
       "<style scoped>\n",
       "    .dataframe tbody tr th:only-of-type {\n",
       "        vertical-align: middle;\n",
       "    }\n",
       "\n",
       "    .dataframe tbody tr th {\n",
       "        vertical-align: top;\n",
       "    }\n",
       "\n",
       "    .dataframe thead th {\n",
       "        text-align: right;\n",
       "    }\n",
       "</style>\n",
       "<table border=\"1\" class=\"dataframe\">\n",
       "  <thead>\n",
       "    <tr style=\"text-align: right;\">\n",
       "      <th></th>\n",
       "      <th>label</th>\n",
       "      <th>text</th>\n",
       "    </tr>\n",
       "  </thead>\n",
       "  <tbody>\n",
       "    <tr>\n",
       "      <th>0</th>\n",
       "      <td>Tiefbau</td>\n",
       "      <td>Baugeschäft Haßmann Gmbh Wörblitz</td>\n",
       "    </tr>\n",
       "    <tr>\n",
       "      <th>1</th>\n",
       "      <td>Restaurants</td>\n",
       "      <td>Gaststätten, Restaurants - Sucos Do Brasil Coc...</td>\n",
       "    </tr>\n",
       "    <tr>\n",
       "      <th>2</th>\n",
       "      <td>Autowerkstätten</td>\n",
       "      <td>Lankes Kfz-werkstatt</td>\n",
       "    </tr>\n",
       "    <tr>\n",
       "      <th>3</th>\n",
       "      <td>Werbeagenturen</td>\n",
       "      <td>Feine Reklame Gesellschaft Für Strategische Kr...</td>\n",
       "    </tr>\n",
       "    <tr>\n",
       "      <th>4</th>\n",
       "      <td>Maler</td>\n",
       "      <td>Müller Vladimir &amp; Co. Malermeister</td>\n",
       "    </tr>\n",
       "    <tr>\n",
       "      <th>5</th>\n",
       "      <td>Allgemeinärzte</td>\n",
       "      <td>Renninger Arztpraxis Für Allgemeinmedizin Dr.</td>\n",
       "    </tr>\n",
       "    <tr>\n",
       "      <th>6</th>\n",
       "      <td>Friseure</td>\n",
       "      <td>Coiffeur La Vie</td>\n",
       "    </tr>\n",
       "    <tr>\n",
       "      <th>7</th>\n",
       "      <td>Maler</td>\n",
       "      <td>Kiesewalter Malermeister Thomas</td>\n",
       "    </tr>\n",
       "    <tr>\n",
       "      <th>8</th>\n",
       "      <td>Dienstleistungen</td>\n",
       "      <td>Gerhard Pflaum Minden-herforder-verkehrs-servi...</td>\n",
       "    </tr>\n",
       "    <tr>\n",
       "      <th>9</th>\n",
       "      <td>Physiotherapie</td>\n",
       "      <td>Hellriegel - Thoms - Feliksßen Rückenzentrum K...</td>\n",
       "    </tr>\n",
       "  </tbody>\n",
       "</table>\n",
       "</div>"
      ],
      "text/plain": [
       "              label                                               text\n",
       "0           Tiefbau                  Baugeschäft Haßmann Gmbh Wörblitz\n",
       "1       Restaurants  Gaststätten, Restaurants - Sucos Do Brasil Coc...\n",
       "2   Autowerkstätten                               Lankes Kfz-werkstatt\n",
       "3    Werbeagenturen  Feine Reklame Gesellschaft Für Strategische Kr...\n",
       "4             Maler                 Müller Vladimir & Co. Malermeister\n",
       "5    Allgemeinärzte      Renninger Arztpraxis Für Allgemeinmedizin Dr.\n",
       "6          Friseure                                    Coiffeur La Vie\n",
       "7             Maler                    Kiesewalter Malermeister Thomas\n",
       "8  Dienstleistungen  Gerhard Pflaum Minden-herforder-verkehrs-servi...\n",
       "9    Physiotherapie  Hellriegel - Thoms - Feliksßen Rückenzentrum K..."
      ]
     },
     "execution_count": 31,
     "metadata": {},
     "output_type": "execute_result"
    }
   ],
   "source": [
    "df.head(10)"
   ]
  },
  {
   "cell_type": "markdown",
   "metadata": {},
   "source": [
    "As we can see we have two relevant columns `label` and `text`. \n",
    "\n",
    "Our classifier will be trained to predict the `label` given a `text`.\n",
    "\n",
    "Let's check the distribution of our `label` columns"
   ]
  },
  {
   "cell_type": "code",
   "execution_count": 8,
   "metadata": {},
   "outputs": [
    {
     "data": {
      "text/html": [
       "<div>\n",
       "<style scoped>\n",
       "    .dataframe tbody tr th:only-of-type {\n",
       "        vertical-align: middle;\n",
       "    }\n",
       "\n",
       "    .dataframe tbody tr th {\n",
       "        vertical-align: top;\n",
       "    }\n",
       "\n",
       "    .dataframe thead th {\n",
       "        text-align: right;\n",
       "    }\n",
       "</style>\n",
       "<table border=\"1\" class=\"dataframe\">\n",
       "  <thead>\n",
       "    <tr style=\"text-align: right;\">\n",
       "      <th></th>\n",
       "      <th>label</th>\n",
       "    </tr>\n",
       "  </thead>\n",
       "  <tbody>\n",
       "    <tr>\n",
       "      <th>Unternehmensberatungen</th>\n",
       "      <td>775</td>\n",
       "    </tr>\n",
       "    <tr>\n",
       "      <th>Friseure</th>\n",
       "      <td>705</td>\n",
       "    </tr>\n",
       "    <tr>\n",
       "      <th>Tiefbau</th>\n",
       "      <td>627</td>\n",
       "    </tr>\n",
       "    <tr>\n",
       "      <th>Dienstleistungen</th>\n",
       "      <td>613</td>\n",
       "    </tr>\n",
       "    <tr>\n",
       "      <th>Gebrauchtwagen</th>\n",
       "      <td>567</td>\n",
       "    </tr>\n",
       "    <tr>\n",
       "      <th>Restaurants</th>\n",
       "      <td>526</td>\n",
       "    </tr>\n",
       "    <tr>\n",
       "      <th>Architekturbüros</th>\n",
       "      <td>523</td>\n",
       "    </tr>\n",
       "    <tr>\n",
       "      <th>Elektriker</th>\n",
       "      <td>513</td>\n",
       "    </tr>\n",
       "    <tr>\n",
       "      <th>Vereine</th>\n",
       "      <td>488</td>\n",
       "    </tr>\n",
       "    <tr>\n",
       "      <th>Versicherungsvermittler</th>\n",
       "      <td>462</td>\n",
       "    </tr>\n",
       "    <tr>\n",
       "      <th>Sanitärinstallationen</th>\n",
       "      <td>416</td>\n",
       "    </tr>\n",
       "    <tr>\n",
       "      <th>Edv</th>\n",
       "      <td>413</td>\n",
       "    </tr>\n",
       "    <tr>\n",
       "      <th>Maler</th>\n",
       "      <td>413</td>\n",
       "    </tr>\n",
       "    <tr>\n",
       "      <th>Physiotherapie</th>\n",
       "      <td>366</td>\n",
       "    </tr>\n",
       "    <tr>\n",
       "      <th>Werbeagenturen</th>\n",
       "      <td>362</td>\n",
       "    </tr>\n",
       "    <tr>\n",
       "      <th>Apotheken</th>\n",
       "      <td>346</td>\n",
       "    </tr>\n",
       "    <tr>\n",
       "      <th>Vermittlungen</th>\n",
       "      <td>345</td>\n",
       "    </tr>\n",
       "    <tr>\n",
       "      <th>Hotels</th>\n",
       "      <td>343</td>\n",
       "    </tr>\n",
       "    <tr>\n",
       "      <th>Autowerkstätten</th>\n",
       "      <td>332</td>\n",
       "    </tr>\n",
       "    <tr>\n",
       "      <th>Elektrotechnik</th>\n",
       "      <td>329</td>\n",
       "    </tr>\n",
       "    <tr>\n",
       "      <th>Allgemeinärzte</th>\n",
       "      <td>274</td>\n",
       "    </tr>\n",
       "    <tr>\n",
       "      <th>Handelsvermittler Und -vertreter</th>\n",
       "      <td>262</td>\n",
       "    </tr>\n",
       "  </tbody>\n",
       "</table>\n",
       "</div>"
      ],
      "text/plain": [
       "                                  label\n",
       "Unternehmensberatungen              775\n",
       "Friseure                            705\n",
       "Tiefbau                             627\n",
       "Dienstleistungen                    613\n",
       "Gebrauchtwagen                      567\n",
       "Restaurants                         526\n",
       "Architekturbüros                    523\n",
       "Elektriker                          513\n",
       "Vereine                             488\n",
       "Versicherungsvermittler             462\n",
       "Sanitärinstallationen               416\n",
       "Edv                                 413\n",
       "Maler                               413\n",
       "Physiotherapie                      366\n",
       "Werbeagenturen                      362\n",
       "Apotheken                           346\n",
       "Vermittlungen                       345\n",
       "Hotels                              343\n",
       "Autowerkstätten                     332\n",
       "Elektrotechnik                      329\n",
       "Allgemeinärzte                      274\n",
       "Handelsvermittler Und -vertreter    262"
      ]
     },
     "execution_count": 8,
     "metadata": {},
     "output_type": "execute_result"
    }
   ],
   "source": [
    "pd.DataFrame(df.label.value_counts())"
   ]
  },
  {
   "cell_type": "code",
   "execution_count": 72,
   "metadata": {},
   "outputs": [],
   "source": [
    "from biome.text import Pipeline"
   ]
  },
  {
   "cell_type": "code",
   "execution_count": 89,
   "metadata": {},
   "outputs": [],
   "source": [
    "pipeline_dict = {\n",
    "    \"name\": \"german_business_names\",\n",
    "    \"features\": {\n",
    "        \"word\": {\n",
    "            \"embedding_dim\": 16,\n",
    "            \"lowercase_tokens\": True,\n",
    "        },\n",
    "        \"char\": {\n",
    "            \"embedding_dim\": 16,\n",
    "            \"encoder\": {\n",
    "                \"type\": \"gru\",\n",
    "                \"num_layers\": 1,\n",
    "                \"hidden_size\": 32,\n",
    "                \"bidirectional\": True,\n",
    "            },\n",
    "            \"dropout\": 0.1,\n",
    "        },\n",
    "    },\n",
    "    \"head\": {\n",
    "        \"type\": \"TextClassification\",\n",
    "        \"labels\": list(df.label.value_counts().index),\n",
    "        \"pooler\": {\n",
    "            \"type\": \"gru\",\n",
    "            \"num_layers\": 1,\n",
    "            \"hidden_size\": 16,\n",
    "            \"bidirectional\": True,\n",
    "        },\n",
    "        \"feedforward\": {\n",
    "            \"num_layers\": 1,\n",
    "            \"hidden_dims\": [16],\n",
    "            \"activations\": [\"relu\"],\n",
    "            \"dropout\": [0.1],\n",
    "        },\n",
    "    },       \n",
    "}"
   ]
  },
  {
   "cell_type": "code",
   "execution_count": 90,
   "metadata": {},
   "outputs": [],
   "source": [
    "yaml_str = yaml.safe_dump(pipeline_dict) \n",
    "\n",
    "pl = Pipeline.from_config(yaml_str)"
   ]
  },
  {
   "cell_type": "code",
   "execution_count": 91,
   "metadata": {},
   "outputs": [
    {
     "data": {
      "text/plain": [
       "19974"
      ]
     },
     "execution_count": 91,
     "metadata": {},
     "output_type": "execute_result"
    }
   ],
   "source": [
    "pl.trainable_parameters"
   ]
  },
  {
   "cell_type": "code",
   "execution_count": 97,
   "metadata": {},
   "outputs": [
    {
     "data": {
      "text/plain": [
       "{'name': 'german_business_names',\n",
       " 'tokenizer': {'lang': 'en',\n",
       "  'skip_empty_tokens': False,\n",
       "  'max_sequence_length': None,\n",
       "  'max_nr_of_sentences': None,\n",
       "  'text_cleaning': None,\n",
       "  'segment_sentences': False},\n",
       " 'features': {'word': <biome.text.featurizer.WordFeatures at 0x1443f8310>,\n",
       "  'char': <biome.text.featurizer.CharFeatures at 0x1443f8790>},\n",
       " 'head': {'feedforward': {'activations': ['relu'],\n",
       "   'dropout': [0.1],\n",
       "   'hidden_dims': [16],\n",
       "   'num_layers': 1},\n",
       "  'labels': ['Unternehmensberatungen',\n",
       "   'Friseure',\n",
       "   'Tiefbau',\n",
       "   'Dienstleistungen',\n",
       "   'Gebrauchtwagen',\n",
       "   'Restaurants',\n",
       "   'Architekturbüros',\n",
       "   'Elektriker',\n",
       "   'Vereine',\n",
       "   'Versicherungsvermittler',\n",
       "   'Sanitärinstallationen',\n",
       "   'Edv',\n",
       "   'Maler',\n",
       "   'Physiotherapie',\n",
       "   'Werbeagenturen',\n",
       "   'Apotheken',\n",
       "   'Vermittlungen',\n",
       "   'Hotels',\n",
       "   'Autowerkstätten',\n",
       "   'Elektrotechnik',\n",
       "   'Allgemeinärzte',\n",
       "   'Handelsvermittler Und -vertreter'],\n",
       "  'pooler': {'bidirectional': True,\n",
       "   'hidden_size': 16,\n",
       "   'num_layers': 1,\n",
       "   'type': 'gru'},\n",
       "  'type': 'TextClassification'}}"
      ]
     },
     "execution_count": 97,
     "metadata": {},
     "output_type": "execute_result"
    }
   ],
   "source": [
    "pl.config.as_dict()"
   ]
  },
  {
   "cell_type": "code",
   "execution_count": 92,
   "metadata": {},
   "outputs": [],
   "source": [
    "from biome.text.configuration import TrainerConfiguration"
   ]
  },
  {
   "cell_type": "code",
   "execution_count": 94,
   "metadata": {},
   "outputs": [
    {
     "data": {
      "text/plain": [
       "\u001b[0;31mInit signature:\u001b[0m\n",
       "\u001b[0mTrainerConfiguration\u001b[0m\u001b[0;34m(\u001b[0m\u001b[0;34m\u001b[0m\n",
       "\u001b[0;34m\u001b[0m    \u001b[0moptimizer\u001b[0m\u001b[0;34m:\u001b[0m \u001b[0mDict\u001b[0m\u001b[0;34m[\u001b[0m\u001b[0mstr\u001b[0m\u001b[0;34m,\u001b[0m \u001b[0mAny\u001b[0m\u001b[0;34m]\u001b[0m\u001b[0;34m,\u001b[0m\u001b[0;34m\u001b[0m\n",
       "\u001b[0;34m\u001b[0m    \u001b[0mvalidation_metric\u001b[0m\u001b[0;34m:\u001b[0m \u001b[0mstr\u001b[0m \u001b[0;34m=\u001b[0m \u001b[0;34m'-loss'\u001b[0m\u001b[0;34m,\u001b[0m\u001b[0;34m\u001b[0m\n",
       "\u001b[0;34m\u001b[0m    \u001b[0mpatience\u001b[0m\u001b[0;34m:\u001b[0m \u001b[0mUnion\u001b[0m\u001b[0;34m[\u001b[0m\u001b[0mint\u001b[0m\u001b[0;34m,\u001b[0m \u001b[0mNoneType\u001b[0m\u001b[0;34m]\u001b[0m \u001b[0;34m=\u001b[0m \u001b[0;32mNone\u001b[0m\u001b[0;34m,\u001b[0m\u001b[0;34m\u001b[0m\n",
       "\u001b[0;34m\u001b[0m    \u001b[0mshuffle\u001b[0m\u001b[0;34m:\u001b[0m \u001b[0mbool\u001b[0m \u001b[0;34m=\u001b[0m \u001b[0;32mTrue\u001b[0m\u001b[0;34m,\u001b[0m\u001b[0;34m\u001b[0m\n",
       "\u001b[0;34m\u001b[0m    \u001b[0mnum_epochs\u001b[0m\u001b[0;34m:\u001b[0m \u001b[0mint\u001b[0m \u001b[0;34m=\u001b[0m \u001b[0;36m20\u001b[0m\u001b[0;34m,\u001b[0m\u001b[0;34m\u001b[0m\n",
       "\u001b[0;34m\u001b[0m    \u001b[0mcuda_device\u001b[0m\u001b[0;34m:\u001b[0m \u001b[0mint\u001b[0m \u001b[0;34m=\u001b[0m \u001b[0;34m-\u001b[0m\u001b[0;36m1\u001b[0m\u001b[0;34m,\u001b[0m\u001b[0;34m\u001b[0m\n",
       "\u001b[0;34m\u001b[0m    \u001b[0mgrad_norm\u001b[0m\u001b[0;34m:\u001b[0m \u001b[0mUnion\u001b[0m\u001b[0;34m[\u001b[0m\u001b[0mfloat\u001b[0m\u001b[0;34m,\u001b[0m \u001b[0mNoneType\u001b[0m\u001b[0;34m]\u001b[0m \u001b[0;34m=\u001b[0m \u001b[0;32mNone\u001b[0m\u001b[0;34m,\u001b[0m\u001b[0;34m\u001b[0m\n",
       "\u001b[0;34m\u001b[0m    \u001b[0mgrad_clipping\u001b[0m\u001b[0;34m:\u001b[0m \u001b[0mUnion\u001b[0m\u001b[0;34m[\u001b[0m\u001b[0mfloat\u001b[0m\u001b[0;34m,\u001b[0m \u001b[0mNoneType\u001b[0m\u001b[0;34m]\u001b[0m \u001b[0;34m=\u001b[0m \u001b[0;32mNone\u001b[0m\u001b[0;34m,\u001b[0m\u001b[0;34m\u001b[0m\n",
       "\u001b[0;34m\u001b[0m    \u001b[0mlearning_rate_scheduler\u001b[0m\u001b[0;34m:\u001b[0m \u001b[0mUnion\u001b[0m\u001b[0;34m[\u001b[0m\u001b[0mDict\u001b[0m\u001b[0;34m[\u001b[0m\u001b[0mstr\u001b[0m\u001b[0;34m,\u001b[0m \u001b[0mAny\u001b[0m\u001b[0;34m]\u001b[0m\u001b[0;34m,\u001b[0m \u001b[0mNoneType\u001b[0m\u001b[0;34m]\u001b[0m \u001b[0;34m=\u001b[0m \u001b[0;32mNone\u001b[0m\u001b[0;34m,\u001b[0m\u001b[0;34m\u001b[0m\n",
       "\u001b[0;34m\u001b[0m    \u001b[0mmomentum_scheduler\u001b[0m\u001b[0;34m:\u001b[0m \u001b[0mUnion\u001b[0m\u001b[0;34m[\u001b[0m\u001b[0mDict\u001b[0m\u001b[0;34m[\u001b[0m\u001b[0mstr\u001b[0m\u001b[0;34m,\u001b[0m \u001b[0mAny\u001b[0m\u001b[0;34m]\u001b[0m\u001b[0;34m,\u001b[0m \u001b[0mNoneType\u001b[0m\u001b[0;34m]\u001b[0m \u001b[0;34m=\u001b[0m \u001b[0;32mNone\u001b[0m\u001b[0;34m,\u001b[0m\u001b[0;34m\u001b[0m\n",
       "\u001b[0;34m\u001b[0m    \u001b[0mmoving_average\u001b[0m\u001b[0;34m:\u001b[0m \u001b[0mUnion\u001b[0m\u001b[0;34m[\u001b[0m\u001b[0mDict\u001b[0m\u001b[0;34m[\u001b[0m\u001b[0mstr\u001b[0m\u001b[0;34m,\u001b[0m \u001b[0mAny\u001b[0m\u001b[0;34m]\u001b[0m\u001b[0;34m,\u001b[0m \u001b[0mNoneType\u001b[0m\u001b[0;34m]\u001b[0m \u001b[0;34m=\u001b[0m \u001b[0;32mNone\u001b[0m\u001b[0;34m,\u001b[0m\u001b[0;34m\u001b[0m\n",
       "\u001b[0;34m\u001b[0m    \u001b[0mbatch_size\u001b[0m\u001b[0;34m:\u001b[0m \u001b[0mUnion\u001b[0m\u001b[0;34m[\u001b[0m\u001b[0mint\u001b[0m\u001b[0;34m,\u001b[0m \u001b[0mNoneType\u001b[0m\u001b[0;34m]\u001b[0m \u001b[0;34m=\u001b[0m \u001b[0;32mNone\u001b[0m\u001b[0;34m,\u001b[0m\u001b[0;34m\u001b[0m\n",
       "\u001b[0;34m\u001b[0m    \u001b[0mcache_instances\u001b[0m\u001b[0;34m:\u001b[0m \u001b[0mbool\u001b[0m \u001b[0;34m=\u001b[0m \u001b[0;32mTrue\u001b[0m\u001b[0;34m,\u001b[0m\u001b[0;34m\u001b[0m\n",
       "\u001b[0;34m\u001b[0m    \u001b[0min_memory_batches\u001b[0m\u001b[0;34m:\u001b[0m \u001b[0mint\u001b[0m \u001b[0;34m=\u001b[0m \u001b[0;36m2\u001b[0m\u001b[0;34m,\u001b[0m\u001b[0;34m\u001b[0m\n",
       "\u001b[0;34m\u001b[0m    \u001b[0mdata_bucketing\u001b[0m\u001b[0;34m:\u001b[0m \u001b[0mbool\u001b[0m \u001b[0;34m=\u001b[0m \u001b[0;32mTrue\u001b[0m\u001b[0;34m,\u001b[0m\u001b[0;34m\u001b[0m\n",
       "\u001b[0;34m\u001b[0m\u001b[0;34m)\u001b[0m\u001b[0;34m\u001b[0m\u001b[0;34m\u001b[0m\u001b[0m\n",
       "\u001b[0;31mDocstring:\u001b[0m     \n",
       "Creates a `TrainerConfiguration`\n",
       "\n",
       "Parameters\n",
       "----------\n",
       "optimizer\n",
       "validation_metric\n",
       "patience\n",
       "shuffle\n",
       "num_epochs\n",
       "cuda_device\n",
       "grad_norm\n",
       "grad_clipping\n",
       "learning_rate_scheduler\n",
       "momentum_scheduler\n",
       "moving_average\n",
       "batch_size\n",
       "cache_instances\n",
       "in_memory_batches\n",
       "data_bucketing\n",
       "\u001b[0;31mFile:\u001b[0m           ~/recognai/biome/biome-text/src/biome/text/configuration.py\n",
       "\u001b[0;31mType:\u001b[0m           type\n",
       "\u001b[0;31mSubclasses:\u001b[0m     \n"
      ]
     },
     "metadata": {},
     "output_type": "display_data"
    }
   ],
   "source": [
    "trainer = TrainerConfiguration(\n",
    "    optimizer={\n",
    "        \"type\": \"adam\",\n",
    "        \n",
    "    }\n",
    ")"
   ]
  },
  {
   "cell_type": "code",
   "execution_count": 54,
   "metadata": {},
   "outputs": [
    {
     "data": {
      "text/plain": [
       "\u001b[0;31mInit signature:\u001b[0m \u001b[0mTaskHeadSpec\u001b[0m\u001b[0;34m(\u001b[0m\u001b[0;34m*\u001b[0m\u001b[0margs\u001b[0m\u001b[0;34m,\u001b[0m \u001b[0;34m**\u001b[0m\u001b[0mkwds\u001b[0m\u001b[0;34m)\u001b[0m\u001b[0;34m\u001b[0m\u001b[0;34m\u001b[0m\u001b[0m\n",
       "\u001b[0;31mDocstring:\u001b[0m      Layer spec for TaskHead components\n",
       "\u001b[0;31mFile:\u001b[0m           ~/recognai/biome/biome-text/src/biome/text/modules/heads/defs.py\n",
       "\u001b[0;31mType:\u001b[0m           type\n",
       "\u001b[0;31mSubclasses:\u001b[0m     \n"
      ]
     },
     "metadata": {},
     "output_type": "display_data"
    }
   ],
   "source": [
    "TaskHeadSpec"
   ]
  },
  {
   "cell_type": "code",
   "execution_count": 51,
   "metadata": {},
   "outputs": [
    {
     "data": {
      "text/plain": [
       "\u001b[0;31mInit signature:\u001b[0m\n",
       "\u001b[0mPipelineConfiguration\u001b[0m\u001b[0;34m(\u001b[0m\u001b[0;34m\u001b[0m\n",
       "\u001b[0;34m\u001b[0m    \u001b[0mname\u001b[0m\u001b[0;34m:\u001b[0m \u001b[0mstr\u001b[0m\u001b[0;34m,\u001b[0m\u001b[0;34m\u001b[0m\n",
       "\u001b[0;34m\u001b[0m    \u001b[0mfeatures\u001b[0m\u001b[0;34m:\u001b[0m \u001b[0mbiome\u001b[0m\u001b[0;34m.\u001b[0m\u001b[0mtext\u001b[0m\u001b[0;34m.\u001b[0m\u001b[0mconfiguration\u001b[0m\u001b[0;34m.\u001b[0m\u001b[0mFeaturesConfiguration\u001b[0m\u001b[0;34m,\u001b[0m\u001b[0;34m\u001b[0m\n",
       "\u001b[0;34m\u001b[0m    \u001b[0mhead\u001b[0m\u001b[0;34m:\u001b[0m \u001b[0mbiome\u001b[0m\u001b[0;34m.\u001b[0m\u001b[0mtext\u001b[0m\u001b[0;34m.\u001b[0m\u001b[0mmodules\u001b[0m\u001b[0;34m.\u001b[0m\u001b[0mheads\u001b[0m\u001b[0;34m.\u001b[0m\u001b[0mdefs\u001b[0m\u001b[0;34m.\u001b[0m\u001b[0mTaskHeadSpec\u001b[0m\u001b[0;34m,\u001b[0m\u001b[0;34m\u001b[0m\n",
       "\u001b[0;34m\u001b[0m    \u001b[0mtokenizer\u001b[0m\u001b[0;34m:\u001b[0m \u001b[0mUnion\u001b[0m\u001b[0;34m[\u001b[0m\u001b[0mbiome\u001b[0m\u001b[0;34m.\u001b[0m\u001b[0mtext\u001b[0m\u001b[0;34m.\u001b[0m\u001b[0mconfiguration\u001b[0m\u001b[0;34m.\u001b[0m\u001b[0mTokenizerConfiguration\u001b[0m\u001b[0;34m,\u001b[0m \u001b[0mNoneType\u001b[0m\u001b[0;34m]\u001b[0m \u001b[0;34m=\u001b[0m \u001b[0;32mNone\u001b[0m\u001b[0;34m,\u001b[0m\u001b[0;34m\u001b[0m\n",
       "\u001b[0;34m\u001b[0m    \u001b[0mencoder\u001b[0m\u001b[0;34m:\u001b[0m \u001b[0mUnion\u001b[0m\u001b[0;34m[\u001b[0m\u001b[0mbiome\u001b[0m\u001b[0;34m.\u001b[0m\u001b[0mtext\u001b[0m\u001b[0;34m.\u001b[0m\u001b[0mmodules\u001b[0m\u001b[0;34m.\u001b[0m\u001b[0mspecs\u001b[0m\u001b[0;34m.\u001b[0m\u001b[0mallennlp_specs\u001b[0m\u001b[0;34m.\u001b[0m\u001b[0mSeq2SeqEncoderSpec\u001b[0m\u001b[0;34m,\u001b[0m \u001b[0mNoneType\u001b[0m\u001b[0;34m]\u001b[0m \u001b[0;34m=\u001b[0m \u001b[0;32mNone\u001b[0m\u001b[0;34m,\u001b[0m\u001b[0;34m\u001b[0m\n",
       "\u001b[0;34m\u001b[0m\u001b[0;34m)\u001b[0m\u001b[0;34m\u001b[0m\u001b[0;34m\u001b[0m\u001b[0m\n",
       "\u001b[0;31mDocstring:\u001b[0m     \n",
       "\"Creates a `Pipeline` configuration\n",
       "\n",
       "Parameters\n",
       "----------\n",
       "name : ``str``\n",
       "    The `name` for our pipeline\n",
       "features : `FeaturesConfiguration`\n",
       "    The input `features` to be used by the model pipeline. We define this using a `FeaturesConfiguration` object.\n",
       "head : ``TaskHeadSpec``\n",
       "    The `head` for the task, e.g., a LanguageModelling task, using a `TaskHeadSpec` object.\n",
       "tokenizer : `TokenizerConfiguration`, optional\n",
       "    The `tokenizer` defined with a `TokenizerConfiguration` object.\n",
       "encoder : `Seq2SeqEncoderSpec`\n",
       "    The core text seq2seq `encoder` of our model using a `Seq2SeqEncoderSpec`\n",
       "\u001b[0;31mFile:\u001b[0m           ~/recognai/biome/biome-text/src/biome/text/configuration.py\n",
       "\u001b[0;31mType:\u001b[0m           type\n",
       "\u001b[0;31mSubclasses:\u001b[0m     \n"
      ]
     },
     "metadata": {},
     "output_type": "display_data"
    }
   ],
   "source": []
  },
  {
   "cell_type": "markdown",
   "metadata": {},
   "source": [
    "## Configure your `biome.text` Pipeline"
   ]
  },
  {
   "cell_type": "code",
   "execution_count": 12,
   "metadata": {},
   "outputs": [],
   "source": [
    "from biome.text.api_new import Pipeline\n",
    "from biome.text.api_new.configuration import TrainerConfiguration\n",
    "from biome.text.api_new.helpers import yaml_to_dict"
   ]
  },
  {
   "cell_type": "markdown",
   "metadata": {},
   "source": [
    "### Pipeline configuration from YAML\n",
    "\n",
    "A `biome.text` pipeline has the following main components:\n",
    "\n",
    "```yaml\n",
    "name: # the name\n",
    "\n",
    "tokenizer: # how to tokenize input text\n",
    "\n",
    "features: # this input features of the model\n",
    "\n",
    "encoder: # the backbone model encoder\n",
    "\n",
    "head: # your task configuration\n",
    "\n",
    "\n",
    "```\n",
    "\n",
    "Our complete configuration for this tutorial is:\n",
    "\n",
    "```yaml\n",
    "name: german-business-categories\n",
    "\n",
    "features:\n",
    "    words:\n",
    "        embedding_dim: 100\n",
    "        lowercase_tokens: true\n",
    "    chars:\n",
    "        embedding_dim: 8\n",
    "        encoder:\n",
    "            type: cnn\n",
    "            num_filters: 50\n",
    "            ngram_filter_sizes: [ 4 ]\n",
    "        dropout: 0.2\n",
    "\n",
    "encoder:\n",
    "    hidden_size: 512\n",
    "    num_layers: 2\n",
    "    dropout: 0.5\n",
    "    type: lstm\n",
    "\n",
    "head:\n",
    "    type: TextClassification\n",
    "    pooler:\n",
    "        type: boe\n",
    "    labels: ['Allgemeinärzte', 'Apotheken', 'Architekturbüros',\n",
    "             'Autowerkstätten', 'Dienstleistungen', 'Edv', 'Elektriker',\n",
    "             'Elektrotechnik', 'Friseure', 'Gebrauchtwagen',\n",
    "             'Handelsvermittler Und -vertreter', 'Hotels', 'Maler',\n",
    "             'Physiotherapie', 'Restaurants', 'Sanitärinstallationen',\n",
    "             'Tiefbau', 'Unternehmensberatungen', 'Vereine', 'Vermittlungen',\n",
    "             'Versicherungsvermittler', 'Werbeagenturen']\n",
    "```"
   ]
  },
  {
   "cell_type": "code",
   "execution_count": 13,
   "metadata": {},
   "outputs": [],
   "source": [
    "pl = Pipeline.from_file(\"configs/text_classifier.yml\")"
   ]
  },
  {
   "cell_type": "code",
   "execution_count": 15,
   "metadata": {},
   "outputs": [
    {
     "data": {
      "text/plain": [
       "{'name': 'business-categories',\n",
       " 'tokenizer': {'lang': 'en',\n",
       "  'skip_empty_tokens': False,\n",
       "  'max_sequence_length': None,\n",
       "  'max_nr_of_sentences': None,\n",
       "  'text_cleaning': None,\n",
       "  'segment_sentences': False},\n",
       " 'features': {'words': {'embedding_dim': 100, 'lowercase_tokens': True},\n",
       "  'chars': {'embedding_dim': 8,\n",
       "   'encoder': {'type': 'cnn', 'num_filters': 50, 'ngram_filter_sizes': [4]},\n",
       "   'dropout': 0.2}},\n",
       " 'encoder': {'hidden_size': 512,\n",
       "  'num_layers': 2,\n",
       "  'dropout': 0.5,\n",
       "  'type': 'lstm',\n",
       "  'input_size': 150},\n",
       " 'head': {'type': 'TextClassification',\n",
       "  'pooler': {'type': 'boe'},\n",
       "  'labels': ['Allgemeinärzte',\n",
       "   'Apotheken',\n",
       "   'Architekturbüros',\n",
       "   'Autowerkstätten',\n",
       "   'Dienstleistungen',\n",
       "   'Edv',\n",
       "   'Elektriker',\n",
       "   'Elektrotechnik',\n",
       "   'Friseure',\n",
       "   'Gebrauchtwagen',\n",
       "   'Handelsvermittler Und -vertreter',\n",
       "   'Hotels',\n",
       "   'Maler',\n",
       "   'Physiotherapie',\n",
       "   'Restaurants',\n",
       "   'Sanitärinstallationen',\n",
       "   'Tiefbau',\n",
       "   'Unternehmensberatungen',\n",
       "   'Vereine',\n",
       "   'Vermittlungen',\n",
       "   'Versicherungsvermittler',\n",
       "   'Werbeagenturen']}}"
      ]
     },
     "execution_count": 15,
     "metadata": {},
     "output_type": "execute_result"
    }
   ],
   "source": [
    "pl.config.as_dict()"
   ]
  },
  {
   "cell_type": "markdown",
   "metadata": {},
   "source": [
    "### Testing our pipeline before training\n",
    "\n",
    "It recommended to check that our pipeline is correctly setup using the `predict` method.\n",
    "\n",
    "::: warning\n",
    "\n",
    "Our pipeline has not been trained before, so its weights are random. Do not expect its predictions to make sense for now.\n",
    "\n",
    ":::\n"
   ]
  },
  {
   "cell_type": "code",
   "execution_count": 13,
   "metadata": {},
   "outputs": [
    {
     "data": {
      "text/plain": [
       "{'logits': array([-0.0333772 , -0.01114595,  0.08185824,  0.00720856, -0.01808064,\n",
       "         0.0209163 , -0.04119281,  0.0234425 ,  0.00120479,  0.04529068,\n",
       "        -0.02560528,  0.03243363, -0.02825472,  0.01238234,  0.00707909,\n",
       "        -0.05999601,  0.05878261,  0.03128546, -0.01267068,  0.00673078,\n",
       "         0.01568662,  0.02453783], dtype=float32),\n",
       " 'probs': array([0.04366268, 0.04464422, 0.04899553, 0.04547121, 0.0443357 ,\n",
       "        0.04609881, 0.04332276, 0.04621541, 0.04519903, 0.04723625,\n",
       "        0.04400334, 0.04663282, 0.04388691, 0.04570708, 0.04546533,\n",
       "        0.04251576, 0.04787787, 0.04657931, 0.04457621, 0.04544949,\n",
       "        0.04585836, 0.04626606], dtype=float32),\n",
       " 'classes': {'Architekturbüros': 0.04899553209543228,\n",
       "  'Tiefbau': 0.047877874225378036,\n",
       "  'Gebrauchtwagen': 0.04723624885082245,\n",
       "  'Hotels': 0.04663281515240669,\n",
       "  'Unternehmensberatungen': 0.046579305082559586,\n",
       "  'Werbeagenturen': 0.046266064047813416,\n",
       "  'Elektrotechnik': 0.04621541127562523,\n",
       "  'Edv': 0.04609880968928337,\n",
       "  'Versicherungsvermittler': 0.04585836082696915,\n",
       "  'Physiotherapie': 0.04570708051323891,\n",
       "  'Autowerkstätten': 0.04547121003270149,\n",
       "  'Restaurants': 0.04546532779932022,\n",
       "  'Vermittlungen': 0.04544949159026146,\n",
       "  'Friseure': 0.04519902914762497,\n",
       "  'Apotheken': 0.04464422166347504,\n",
       "  'Vereine': 0.04457620531320572,\n",
       "  'Dienstleistungen': 0.04433570057153702,\n",
       "  'Handelsvermittler Und -vertreter': 0.04400334134697914,\n",
       "  'Maler': 0.04388691112399101,\n",
       "  'Allgemeinärzte': 0.04366267845034599,\n",
       "  'Elektriker': 0.04332275688648224,\n",
       "  'Sanitärinstallationen': 0.04251576215028763},\n",
       " 'max_class': 'Architekturbüros',\n",
       " 'max_class_prob': 0.04899553209543228,\n",
       " 'label': 'Architekturbüros',\n",
       " 'prob': 0.04899553209543228}"
      ]
     },
     "execution_count": 13,
     "metadata": {},
     "output_type": "execute_result"
    }
   ],
   "source": [
    "pl.predict('Some text')"
   ]
  },
  {
   "cell_type": "code",
   "execution_count": 17,
   "metadata": {},
   "outputs": [
    {
     "data": {
      "text/plain": [
       "{'batch_size': 64,\n",
       " 'num_epochs': 100,\n",
       " 'optimizer': {'type': 'adam', 'lr': 0.01},\n",
       " 'validation_metric': '-loss',\n",
       " 'patience': 2}"
      ]
     },
     "execution_count": 17,
     "metadata": {},
     "output_type": "execute_result"
    }
   ],
   "source": [
    "yaml_to_dict(\"configs/trainer.yml\")"
   ]
  },
  {
   "cell_type": "code",
   "execution_count": 16,
   "metadata": {},
   "outputs": [],
   "source": [
    "trainer = TrainerConfiguration(**yaml_to_dict(\"configs/trainer.yml\"))"
   ]
  },
  {
   "cell_type": "code",
   "execution_count": null,
   "metadata": {},
   "outputs": [],
   "source": []
  }
 ],
 "metadata": {
  "kernelspec": {
   "display_name": "Python 3",
   "language": "python",
   "name": "python3"
  },
  "language_info": {
   "codemirror_mode": {
    "name": "ipython",
    "version": 3
   },
   "file_extension": ".py",
   "mimetype": "text/x-python",
   "name": "python",
   "nbconvert_exporter": "python",
   "pygments_lexer": "ipython3",
   "version": "3.7.6"
  }
 },
 "nbformat": 4,
 "nbformat_minor": 4
}
