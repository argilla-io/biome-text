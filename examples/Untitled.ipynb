{
 "cells": [
  {
   "cell_type": "code",
   "execution_count": 3,
   "metadata": {},
   "outputs": [
    {
     "name": "stderr",
     "output_type": "stream",
     "text": [
      "WARNING:biome.text.api_new.data.datasource:Cannot set NaN's as empty string for column path\n",
      "WARNING:biome.text.api_new.data.datasource:Cannot set NaN's as empty string for column path\n",
      "100%|██████████| 198/198 [00:00<00:00, 115584.16it/s]\n",
      "WARNING:biome.text.api_new.data.datasource:Cannot set NaN's as empty string for column path\n",
      "INFO:biome.text.commands.ui.ui:Running biome UI on http://0.0.0.0:9999 with elasticsearch backend http://localhost:9200\n"
     ]
    },
    {
     "data": {
      "text/html": [
       "<iframe src=http://localhost:9999/projects/default/explore/677b28d4-856d-11ea-be42-acde48001122 width=100% height=840></iframe>"
      ],
      "text/plain": [
       "<IPython.core.display.HTML object>"
      ]
     },
     "metadata": {},
     "output_type": "display_data"
    },
    {
     "data": {
      "text/html": [
       "<div><strong>Dask DataFrame Structure:</strong></div>\n",
       "<div>\n",
       "<style scoped>\n",
       "    .dataframe tbody tr th:only-of-type {\n",
       "        vertical-align: middle;\n",
       "    }\n",
       "\n",
       "    .dataframe tbody tr th {\n",
       "        vertical-align: top;\n",
       "    }\n",
       "\n",
       "    .dataframe thead th {\n",
       "        text-align: right;\n",
       "    }\n",
       "</style>\n",
       "<table border=\"1\" class=\"dataframe\">\n",
       "  <thead>\n",
       "    <tr style=\"text-align: right;\">\n",
       "      <th></th>\n",
       "      <th>label</th>\n",
       "      <th>text</th>\n",
       "      <th>annotation</th>\n",
       "      <th>metadata</th>\n",
       "    </tr>\n",
       "    <tr>\n",
       "      <th>npartitions=1</th>\n",
       "      <th></th>\n",
       "      <th></th>\n",
       "      <th></th>\n",
       "      <th></th>\n",
       "    </tr>\n",
       "  </thead>\n",
       "  <tbody>\n",
       "    <tr>\n",
       "      <th></th>\n",
       "      <td>object</td>\n",
       "      <td>object</td>\n",
       "      <td>object</td>\n",
       "      <td>object</td>\n",
       "    </tr>\n",
       "    <tr>\n",
       "      <th></th>\n",
       "      <td>...</td>\n",
       "      <td>...</td>\n",
       "      <td>...</td>\n",
       "      <td>...</td>\n",
       "    </tr>\n",
       "  </tbody>\n",
       "</table>\n",
       "</div>\n",
       "<div>Dask Name: bulk_save, 1 tasks</div>"
      ],
      "text/plain": [
       "Dask DataFrame Structure:\n",
       "                label    text annotation metadata\n",
       "npartitions=1                                    \n",
       "               object  object     object   object\n",
       "                  ...     ...        ...      ...\n",
       "Dask Name: bulk_save, 1 tasks"
      ]
     },
     "execution_count": 3,
     "metadata": {},
     "output_type": "execute_result"
    },
    {
     "name": "stderr",
     "output_type": "stream",
     "text": [
      "WARNING:biome.text.commands.ui.app:404 Not Found: The requested URL was not found on the server. If you entered the URL manually please check your spelling and try again.\n",
      "127.0.0.1 - - [2020-04-23 16:19:15] \"GET /projects/default/explore/677b28d4-856d-11ea-be42-acde48001122 HTTP/1.1\" 200 2184 0.003297\n",
      "127.0.0.1 - - [2020-04-23 16:19:15] \"GET /css/app.2582516d.css HTTP/1.1\" 200 103256 0.001619\n",
      "127.0.0.1 - - [2020-04-23 16:19:15] \"GET /css/chunk-vendors.74b75ff6.css HTTP/1.1\" 200 160916 0.001647\n",
      "127.0.0.1 - - [2020-04-23 16:19:15] \"GET /js/app.09724cdb.js HTTP/1.1\" 200 99586 0.002916\n",
      "127.0.0.1 - - [2020-04-23 16:19:15] \"GET /js/chunk-vendors.9192a62c.js HTTP/1.1\" 200 1358932 0.010023\n",
      "WARNING:biome.text.commands.ui.app:404 Not Found: The requested URL was not found on the server. If you entered the URL manually please check your spelling and try again.\n",
      "127.0.0.1 - - [2020-04-23 16:19:16] \"GET /elastic/ HTTP/1.1\" 200 2184 0.002529\n",
      "127.0.0.1 - - [2020-04-23 16:19:16] \"GET /elastic/.biome/_doc/677b28d4-856d-11ea-be42-acde48001122 HTTP/1.1\" 200 1172 0.026252\n",
      "127.0.0.1 - - [2020-04-23 16:19:16] \"POST /elastic/677b28d4-856d-11ea-be42-acde48001122/_search HTTP/1.1\" 200 338 0.071380\n",
      "127.0.0.1 - - [2020-04-23 16:19:16] \"POST /elastic/.biome/_search HTTP/1.1\" 200 66462 0.083952\n",
      "127.0.0.1 - - [2020-04-23 16:19:16] \"GET /elastic/677b28d4-856d-11ea-be42-acde48001122/_mappings HTTP/1.1\" 200 2831 0.020044\n",
      "127.0.0.1 - - [2020-04-23 16:19:16] \"POST /elastic/677b28d4-856d-11ea-be42-acde48001122/_search HTTP/1.1\" 200 25839 0.103462\n",
      "WARNING:biome.text.commands.ui.app:404 Not Found: The requested URL was not found on the server. If you entered the URL manually please check your spelling and try again.\n",
      "127.0.0.1 - - [2020-04-23 16:19:43] \"GET /projects/ HTTP/1.1\" 200 2184 0.002920\n",
      "127.0.0.1 - - [2020-04-23 16:19:44] \"POST /elastic/.biome/_search HTTP/1.1\" 200 66461 0.022026\n",
      "127.0.0.1 - - [2020-04-23 16:19:44] \"GET /public/manifest.json HTTP/1.1\" 200 622 0.001551\n",
      "127.0.0.1 - - [2020-04-23 16:19:44] \"GET /public/img/icons/android-chrome-192x192.png HTTP/1.1\" 200 6749 0.001788\n",
      "127.0.0.1 - - [2020-04-23 16:19:47] \"POST /elastic/.biome/_search HTTP/1.1\" 200 66461 0.025399\n",
      "127.0.0.1 - - [2020-04-23 16:19:48] \"POST /elastic/.biome/_search HTTP/1.1\" 200 66461 0.031595\n",
      "127.0.0.1 - - [2020-04-23 16:19:49] \"GET /elastic/.biome/_doc/677b28d4-856d-11ea-be42-acde48001122 HTTP/1.1\" 200 1172 0.014799\n",
      "127.0.0.1 - - [2020-04-23 16:19:49] \"POST /elastic/677b28d4-856d-11ea-be42-acde48001122/_search HTTP/1.1\" 200 337 0.017300\n",
      "127.0.0.1 - - [2020-04-23 16:19:49] \"GET /elastic/677b28d4-856d-11ea-be42-acde48001122/_mappings HTTP/1.1\" 200 2831 0.010502\n",
      "127.0.0.1 - - [2020-04-23 16:19:49] \"POST /elastic/677b28d4-856d-11ea-be42-acde48001122/_search HTTP/1.1\" 200 25838 0.026376\n"
     ]
    }
   ],
   "source": [
    "from biome.text.api_new import Pipeline, VocabularyConfiguration\n",
    "\n",
    "train = \"1.text_classifier/train.data.yml\"\n",
    "validation = \"1.text_classifier/validation.data.yml\"\n",
    "\n",
    "pl = Pipeline.from_file(\n",
    "    \"1.text_classifier/text_classifier.yaml\",\n",
    "    vocab_config=VocabularyConfiguration(sources=[train, validation]),\n",
    ")\n",
    "\n",
    "pl.explore(ds_path=\"1.text_classifier/validation.data.yml\", interpret=True)"
   ]
  },
  {
   "cell_type": "code",
   "execution_count": null,
   "metadata": {},
   "outputs": [],
   "source": [
    "pl.explore(ds_path=\"text_classifier/validation.data.yml\", interpret=False)"
   ]
  },
  {
   "cell_type": "code",
   "execution_count": null,
   "metadata": {},
   "outputs": [],
   "source": [
    "import urllib.request\n",
    "print(urllib.request.urlopen(\"http://localhost:9990\").getcode())"
   ]
  },
  {
   "cell_type": "code",
   "execution_count": null,
   "metadata": {},
   "outputs": [],
   "source": []
  }
 ],
 "metadata": {
  "kernelspec": {
   "display_name": "Python 3",
   "language": "python",
   "name": "python3"
  },
  "language_info": {
   "codemirror_mode": {
    "name": "ipython",
    "version": 3
   },
   "file_extension": ".py",
   "mimetype": "text/x-python",
   "name": "python",
   "nbconvert_exporter": "python",
   "pygments_lexer": "ipython3",
   "version": "3.7.6"
  }
 },
 "nbformat": 4,
 "nbformat_minor": 4
}
