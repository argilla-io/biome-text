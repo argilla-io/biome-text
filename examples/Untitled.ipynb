{
 "cells": [
  {
   "cell_type": "code",
   "execution_count": 1,
   "metadata": {},
   "outputs": [
    {
     "name": "stderr",
     "output_type": "stream",
     "text": [
      "WARNING:biome.text.api_new.data.datasource:Cannot set NaN's as empty string for column path\n",
      "WARNING:biome.text.api_new.data.datasource:Cannot set NaN's as empty string for column path\n",
      "100%|██████████| 198/198 [00:00<00:00, 75258.01it/s]\n",
      "WARNING:biome.text.api_new.data.datasource:Cannot set NaN's as empty string for column path\n",
      "INFO:biome.text.commands.ui.ui:Running biome UI on http://0.0.0.0:9999 with elasticsearch backend http://localhost:9200\n"
     ]
    },
    {
     "data": {
      "text/html": [
       "<iframe src=http://localhost:9999/projects/default/explore/test-trained width=100% height=840></iframe>"
      ],
      "text/plain": [
       "<IPython.core.display.HTML object>"
      ]
     },
     "metadata": {},
     "output_type": "display_data"
    },
    {
     "data": {
      "text/html": [
       "<div><strong>Dask DataFrame Structure:</strong></div>\n",
       "<div>\n",
       "<style scoped>\n",
       "    .dataframe tbody tr th:only-of-type {\n",
       "        vertical-align: middle;\n",
       "    }\n",
       "\n",
       "    .dataframe tbody tr th {\n",
       "        vertical-align: top;\n",
       "    }\n",
       "\n",
       "    .dataframe thead th {\n",
       "        text-align: right;\n",
       "    }\n",
       "</style>\n",
       "<table border=\"1\" class=\"dataframe\">\n",
       "  <thead>\n",
       "    <tr style=\"text-align: right;\">\n",
       "      <th></th>\n",
       "      <th>label</th>\n",
       "      <th>text</th>\n",
       "      <th>annotation</th>\n",
       "      <th>metadata</th>\n",
       "    </tr>\n",
       "    <tr>\n",
       "      <th>npartitions=1</th>\n",
       "      <th></th>\n",
       "      <th></th>\n",
       "      <th></th>\n",
       "      <th></th>\n",
       "    </tr>\n",
       "  </thead>\n",
       "  <tbody>\n",
       "    <tr>\n",
       "      <th></th>\n",
       "      <td>object</td>\n",
       "      <td>object</td>\n",
       "      <td>object</td>\n",
       "      <td>object</td>\n",
       "    </tr>\n",
       "    <tr>\n",
       "      <th></th>\n",
       "      <td>...</td>\n",
       "      <td>...</td>\n",
       "      <td>...</td>\n",
       "      <td>...</td>\n",
       "    </tr>\n",
       "  </tbody>\n",
       "</table>\n",
       "</div>\n",
       "<div>Dask Name: bulk_save, 1 tasks</div>"
      ],
      "text/plain": [
       "Dask DataFrame Structure:\n",
       "                label    text annotation metadata\n",
       "npartitions=1                                    \n",
       "               object  object     object   object\n",
       "                  ...     ...        ...      ...\n",
       "Dask Name: bulk_save, 1 tasks"
      ]
     },
     "execution_count": 1,
     "metadata": {},
     "output_type": "execute_result"
    },
    {
     "name": "stderr",
     "output_type": "stream",
     "text": [
      "WARNING:biome.text.commands.ui.app:404 Not Found: The requested URL was not found on the server. If you entered the URL manually please check your spelling and try again.\n",
      "127.0.0.1 - - [2020-04-16 14:51:57] \"GET /projects/default/explore/test-trained HTTP/1.1\" 200 2184 0.003362\n",
      "127.0.0.1 - - [2020-04-16 14:51:57] \"POST /elastic/.biome/_search HTTP/1.1\" 200 11022 0.014412\n",
      "127.0.0.1 - - [2020-04-16 14:51:57] \"POST /elastic/test-trained/_search HTTP/1.1\" 200 337 0.010113\n",
      "127.0.0.1 - - [2020-04-16 14:51:57] \"GET /elastic/.biome/_doc/test-trained HTTP/1.1\" 200 1085 0.010239\n",
      "127.0.0.1 - - [2020-04-16 14:51:57] \"GET /elastic/test-trained/_mappings HTTP/1.1\" 200 2972 0.008434\n",
      "127.0.0.1 - - [2020-04-16 14:51:57] \"POST /elastic/test-trained/_search HTTP/1.1\" 200 26348 0.013970\n",
      "127.0.0.1 - - [2020-04-16 14:54:00] \"POST /elastic/test-trained/_search HTTP/1.1\" 200 3575 0.013610\n",
      "127.0.0.1 - - [2020-04-16 14:54:02] \"POST /elastic/test-trained/_search HTTP/1.1\" 200 26348 0.017827\n",
      "WARNING:biome.text.commands.ui.app:404 Not Found: The requested URL was not found on the server. If you entered the URL manually please check your spelling and try again.\n",
      "127.0.0.1 - - [2020-04-16 14:56:41] \"GET /projects/default/explore/test-trained HTTP/1.1\" 200 2184 0.001473\n",
      "WARNING:biome.text.commands.ui.app:404 Not Found: The requested URL was not found on the server. If you entered the URL manually please check your spelling and try again.\n",
      "127.0.0.1 - - [2020-04-16 14:57:13] \"GET /projects/default/explore/test-trained HTTP/1.1\" 200 2184 0.001578\n",
      "127.0.0.1 - - [2020-04-16 14:57:14] \"POST /elastic/.biome/_search HTTP/1.1\" 200 11030 0.017306\n",
      "127.0.0.1 - - [2020-04-16 14:57:14] \"POST /elastic/test-trained/_search HTTP/1.1\" 200 336 0.011761\n",
      "127.0.0.1 - - [2020-04-16 14:57:14] \"GET /elastic/.biome/_doc/test-trained HTTP/1.1\" 200 1093 0.012697\n",
      "127.0.0.1 - - [2020-04-16 14:57:14] \"GET /elastic/test-trained/_mappings HTTP/1.1\" 200 2997 0.013902\n",
      "127.0.0.1 - - [2020-04-16 14:57:14] \"POST /elastic/test-trained/_search HTTP/1.1\" 200 2182 0.011917\n",
      "WARNING:biome.text.commands.ui.app:404 Not Found: The requested URL was not found on the server. If you entered the URL manually please check your spelling and try again.\n",
      "127.0.0.1 - - [2020-04-16 14:57:20] \"GET /projects/default/explore/test-explore HTTP/1.1\" 200 2184 0.001951\n",
      "WARNING:biome.text.commands.ui.app:404 Not Found: The requested URL was not found on the server. If you entered the URL manually please check your spelling and try again.\n",
      "127.0.0.1 - - [2020-04-16 14:57:20] \"GET /projects/default/explore/test-explore HTTP/1.1\" 200 2184 0.002341\n",
      "127.0.0.1 - - [2020-04-16 14:57:21] \"POST /elastic/.biome/_search HTTP/1.1\" 200 11030 0.014902\n",
      "127.0.0.1 - - [2020-04-16 14:57:21] \"POST /elastic/test-explore/_search HTTP/1.1\" 200 336 0.011634\n",
      "127.0.0.1 - - [2020-04-16 14:57:21] \"GET /elastic/.biome/_doc/test-explore HTTP/1.1\" 200 1095 0.130120\n",
      "127.0.0.1 - - [2020-04-16 14:57:21] \"GET /elastic/test-explore/_mappings HTTP/1.1\" 200 2852 0.009306\n",
      "127.0.0.1 - - [2020-04-16 14:57:21] \"POST /elastic/test-explore/_search HTTP/1.1\" 200 2182 0.010716\n",
      "127.0.0.1 - - [2020-04-16 14:57:24] \"POST /elastic/test-trained/_search HTTP/1.1\" 200 16100 0.015115\n",
      "127.0.0.1 - - [2020-04-16 14:57:27] \"POST /elastic/test-trained/_search HTTP/1.1\" 200 26750 0.018626\n",
      "127.0.0.1 - - [2020-04-16 14:57:33] \"POST /elastic/test-explore/_search HTTP/1.1\" 200 6112 0.016793\n",
      "127.0.0.1 - - [2020-04-16 14:57:35] \"POST /elastic/test-explore/_search HTTP/1.1\" 200 25669 0.015776\n",
      "WARNING:biome.text.commands.ui.app:404 Not Found: The requested URL was not found on the server. If you entered the URL manually please check your spelling and try again.\n",
      "127.0.0.1 - - [2020-04-16 15:26:17] \"GET /projects/default/explore/test-trained HTTP/1.1\" 200 2184 0.002007\n",
      "127.0.0.1 - - [2020-04-16 15:26:17] \"POST /elastic/.biome/_search HTTP/1.1\" 200 2244 0.016176\n",
      "127.0.0.1 - - [2020-04-16 15:26:17] \"POST /elastic/test-trained/_search HTTP/1.1\" 200 336 0.013817\n",
      "127.0.0.1 - - [2020-04-16 15:26:17] \"GET /elastic/.biome/_doc/test-trained HTTP/1.1\" 200 1092 0.013031\n",
      "127.0.0.1 - - [2020-04-16 15:26:17] \"GET /elastic/test-trained/_mappings HTTP/1.1\" 200 2997 0.015477\n",
      "127.0.0.1 - - [2020-04-16 15:26:18] \"POST /elastic/test-trained/_search HTTP/1.1\" 200 2182 0.024052\n",
      "WARNING:biome.text.commands.ui.app:404 Not Found: The requested URL was not found on the server. If you entered the URL manually please check your spelling and try again.\n",
      "127.0.0.1 - - [2020-04-16 15:26:20] \"GET /projects/default/explore/test-trained HTTP/1.1\" 200 2184 0.001918\n",
      "127.0.0.1 - - [2020-04-16 15:26:20] \"POST /elastic/.biome/_search HTTP/1.1\" 200 2244 0.010678\n",
      "127.0.0.1 - - [2020-04-16 15:26:20] \"GET /elastic/.biome/_doc/test-trained HTTP/1.1\" 200 1092 0.013415\n",
      "127.0.0.1 - - [2020-04-16 15:26:20] \"POST /elastic/test-trained/_search HTTP/1.1\" 200 337 0.012970\n",
      "127.0.0.1 - - [2020-04-16 15:26:20] \"GET /elastic/test-trained/_mappings HTTP/1.1\" 200 2997 0.010364\n",
      "127.0.0.1 - - [2020-04-16 15:26:20] \"GET /public/img/icons/favicon-32x32.png HTTP/1.1\" 200 1602 0.001747\n",
      "127.0.0.1 - - [2020-04-16 15:26:20] \"POST /elastic/test-trained/_search HTTP/1.1\" 200 26728 0.016806\n",
      "WARNING:biome.text.commands.ui.app:404 Not Found: The requested URL was not found on the server. If you entered the URL manually please check your spelling and try again.\n",
      "127.0.0.1 - - [2020-04-16 15:26:25] \"GET /projects/default/explore/test-explore HTTP/1.1\" 200 2184 0.003866\n",
      "127.0.0.1 - - [2020-04-16 15:26:26] \"POST /elastic/.biome/_search HTTP/1.1\" 200 3153 0.019563\n",
      "127.0.0.1 - - [2020-04-16 15:26:26] \"POST /elastic/test-explore/_search HTTP/1.1\" 200 336 0.016791\n",
      "127.0.0.1 - - [2020-04-16 15:26:26] \"GET /elastic/.biome/_doc/test-explore HTTP/1.1\" 200 1095 0.013797\n",
      "127.0.0.1 - - [2020-04-16 15:26:26] \"GET /elastic/test-explore/_mappings HTTP/1.1\" 200 2852 0.012662\n",
      "127.0.0.1 - - [2020-04-16 15:26:26] \"POST /elastic/test-explore/_search HTTP/1.1\" 200 2182 0.016179\n"
     ]
    }
   ],
   "source": [
    "from biome.text.api_new import Pipeline\n",
    "\n",
    "train = \"text_classifier/train.data.yml\"\n",
    "validation = \"text_classifier/validation.data.yml\"\n",
    "\n",
    "pl = Pipeline.from_file(\"text_classifier.yaml\", vocab_from_data=[train, validation])\n",
    "pl.explore(\"test-trained\", ds_path=\"text_classifier/validation.data.yml\", interpret=True)"
   ]
  },
  {
   "cell_type": "code",
   "execution_count": null,
   "metadata": {},
   "outputs": [],
   "source": [
    "pl.explore(\"test-trained-2\", ds_path=\"text_classifier/validation.data.yml\", interpret=False)"
   ]
  },
  {
   "cell_type": "code",
   "execution_count": null,
   "metadata": {},
   "outputs": [],
   "source": [
    "import urllib.request\n",
    "print(urllib.request.urlopen(\"http://localhost:9990\").getcode())"
   ]
  },
  {
   "cell_type": "code",
   "execution_count": null,
   "metadata": {},
   "outputs": [],
   "source": []
  }
 ],
 "metadata": {
  "kernelspec": {
   "display_name": "Python 3",
   "language": "python",
   "name": "python3"
  },
  "language_info": {
   "codemirror_mode": {
    "name": "ipython",
    "version": 3
   },
   "file_extension": ".py",
   "mimetype": "text/x-python",
   "name": "python",
   "nbconvert_exporter": "python",
   "pygments_lexer": "ipython3",
   "version": "3.7.6"
  }
 },
 "nbformat": 4,
 "nbformat_minor": 4
}
